{
 "cells": [
  {
   "cell_type": "code",
   "execution_count": 475,
   "metadata": {},
   "outputs": [],
   "source": [
    "import pandas as pd\n",
    "import numpy as np\n",
    "import seaborn as sns\n",
    "import matplotlib.pyplot as plt"
   ]
  },
  {
   "cell_type": "code",
   "execution_count": 476,
   "metadata": {},
   "outputs": [
    {
     "name": "stdout",
     "output_type": "stream",
     "text": [
      "0 - Timestamp\n",
      "1 - 1. Gender\n",
      "2 - 2. Age\n",
      "3 - 3. Where do you live? (District)\n",
      "4 - 4. What's your occupation?\n",
      "5 - 5. What's your Education Level?\n",
      "6 - 6. What's your Monthly income?\n",
      "7 - 7. How did you get to know about mobile banking?\n",
      "8 - 8. How long have you been using mobile banking for?\n",
      "9 - 9. Is your mobile banking service addition to an existing bank account or separate service(Mobile wallet, ex: frimi)?\n",
      "10 - 10. What types of accounts do you have?\n",
      "11 - 11. What kind of operations are you doing using the mobile application?\n",
      "12 - 12.\tHow often do you use the mobile application to do the above-mentioned tasks\n",
      "13 - 13. How far is the bank branch where you do business (or live)?\n",
      "14 - 14. Do you generally send, receive, or do both send and receive?\n",
      "15 - 15. How do you agree with the following statements? [My mobile banking menu is very easy to navigate]\n",
      "16 - 15. How do you agree with the following statements? [My mobile banking menu is very easy to understand]\n",
      "17 - 15. How do you agree with the following statements? [It is easy to make a payment]\n",
      "18 - 15. How do you agree with the following statements? [It is easy to make transfer money]\n",
      "19 - 15. How do you agree with the following statements? [It is easy to make a balance inquiry]\n",
      "20 - 15. How do you agree with the following statements? [Do you think that you will save time by using a mobile banking application?]\n",
      "21 - 15. How do you agree with the following statements? [Do you think the mobile banking is secure with compared to the physically going to a bank and doing the operations?]\n",
      "22 - 16. What type of features do you think that is relevant to a mobile banking application? [Speed/Performance]\n",
      "23 - 16. What type of features do you think that is relevant to a mobile banking application? [Simplicity]\n",
      "24 - 16. What type of features do you think that is relevant to a mobile banking application? [Security]\n",
      "25 - 16. What type of features do you think that is relevant to a mobile banking application? [Customization]\n",
      "26 - 16. What type of features do you think that is relevant to a mobile banking application? [Social Integration]\n",
      "27 - 16. What type of features do you think that is relevant to a mobile banking application? [Feedback]\n",
      "28 - 16. What type of features do you think that is relevant to a mobile banking application? [cross-platform]\n",
      "29 - 16. What type of features do you think that is relevant to a mobile banking application? [Customer support]\n",
      "30 - 16. What type of features do you think that is relevant to a mobile banking application? [Multiple languages]\n",
      "31 - 16. What type of features do you think that is relevant to a mobile banking application? [More reporting tools (charts, tables, etc..)]\n",
      "32 - 17. How satisfied were you with the current banking application?\n",
      "33 - 18. Do you recommend other users to use mobile banking apps? \n",
      "34 - 19. What is the main advantage of using mobile banking applications?\n",
      "35 - 20. What are the main drawbacks of using mobile banking applications?\n",
      "36 - 21. How can the mobile banking apps could be improved to fit your needs well?\n",
      "37 - 22. What are your other thoughts on mobile banking? (Not Mandatory)\n",
      "38 - 23. How convenient is this questionnaire for you? (Not Mandatory)\n"
     ]
    }
   ],
   "source": [
    "dft = pd.read_csv('../data/Mobile Banking Questionnaire.csv')\n",
    "for i, val in enumerate(dft.columns.values):\n",
    "    print(\"{} - {}\".format(i, val))"
   ]
  },
  {
   "cell_type": "code",
   "execution_count": 477,
   "metadata": {
    "pycharm": {
     "name": "#%%\n"
    }
   },
   "outputs": [
    {
     "data": {
      "text/html": [
       "<div>\n",
       "<style scoped>\n",
       "    .dataframe tbody tr th:only-of-type {\n",
       "        vertical-align: middle;\n",
       "    }\n",
       "\n",
       "    .dataframe tbody tr th {\n",
       "        vertical-align: top;\n",
       "    }\n",
       "\n",
       "    .dataframe thead th {\n",
       "        text-align: right;\n",
       "    }\n",
       "</style>\n",
       "<table border=\"1\" class=\"dataframe\">\n",
       "  <thead>\n",
       "    <tr style=\"text-align: right;\">\n",
       "      <th></th>\n",
       "      <th>0</th>\n",
       "      <th>1</th>\n",
       "      <th>2</th>\n",
       "      <th>3</th>\n",
       "      <th>4</th>\n",
       "      <th>5</th>\n",
       "      <th>6</th>\n",
       "      <th>7</th>\n",
       "      <th>8</th>\n",
       "      <th>9</th>\n",
       "      <th>...</th>\n",
       "      <th>29</th>\n",
       "      <th>30</th>\n",
       "      <th>31</th>\n",
       "      <th>32</th>\n",
       "      <th>33</th>\n",
       "      <th>34</th>\n",
       "      <th>35</th>\n",
       "      <th>36</th>\n",
       "      <th>37</th>\n",
       "      <th>38</th>\n",
       "    </tr>\n",
       "  </thead>\n",
       "  <tbody>\n",
       "    <tr>\n",
       "      <td>1</td>\n",
       "      <td>2020/11/01 2:23:58 pm GMT+5:30</td>\n",
       "      <td>Male</td>\n",
       "      <td>19 - 30</td>\n",
       "      <td>Gampaha</td>\n",
       "      <td>Private Sector Job</td>\n",
       "      <td>Degree or above</td>\n",
       "      <td>100,000 - 150,000</td>\n",
       "      <td>Friends</td>\n",
       "      <td>One year to five years</td>\n",
       "      <td>Separate</td>\n",
       "      <td>...</td>\n",
       "      <td>Very relevant</td>\n",
       "      <td>Not relevant</td>\n",
       "      <td>Very relevant</td>\n",
       "      <td>5</td>\n",
       "      <td>YES</td>\n",
       "      <td>Ease of access;24/7 account and service access...</td>\n",
       "      <td>Technology issues;Security issues</td>\n",
       "      <td>Keep it Simple;Lightweight and speed</td>\n",
       "      <td>NaN</td>\n",
       "      <td>4</td>\n",
       "    </tr>\n",
       "    <tr>\n",
       "      <td>2</td>\n",
       "      <td>2020/11/01 2:44:58 pm GMT+5:30</td>\n",
       "      <td>Male</td>\n",
       "      <td>19 - 30</td>\n",
       "      <td>Kegalle</td>\n",
       "      <td>Private Sector Job</td>\n",
       "      <td>Degree or above</td>\n",
       "      <td>100,000 - 150,000</td>\n",
       "      <td>Bank</td>\n",
       "      <td>Less than a year</td>\n",
       "      <td>An addition</td>\n",
       "      <td>...</td>\n",
       "      <td>Relevant</td>\n",
       "      <td>Relevant</td>\n",
       "      <td>Relevant</td>\n",
       "      <td>4</td>\n",
       "      <td>YES</td>\n",
       "      <td>Ease of access;24/7 account and service access...</td>\n",
       "      <td>Security issues;Inconvenient to make deposits</td>\n",
       "      <td>Keep it Simple;Add more features;Lightweight a...</td>\n",
       "      <td>NaN</td>\n",
       "      <td>2</td>\n",
       "    </tr>\n",
       "  </tbody>\n",
       "</table>\n",
       "<p>2 rows × 39 columns</p>\n",
       "</div>"
      ],
      "text/plain": [
       "                               0     1        2        3                   4   \\\n",
       "1  2020/11/01 2:23:58 pm GMT+5:30  Male  19 - 30  Gampaha  Private Sector Job   \n",
       "2  2020/11/01 2:44:58 pm GMT+5:30  Male  19 - 30  Kegalle  Private Sector Job   \n",
       "\n",
       "                5                  6        7                       8   \\\n",
       "1  Degree or above  100,000 - 150,000  Friends  One year to five years   \n",
       "2  Degree or above  100,000 - 150,000     Bank        Less than a year   \n",
       "\n",
       "            9   ...             29            30             31 32   33  \\\n",
       "1     Separate  ...  Very relevant  Not relevant  Very relevant  5  YES   \n",
       "2  An addition  ...       Relevant      Relevant       Relevant  4  YES   \n",
       "\n",
       "                                                  34  \\\n",
       "1  Ease of access;24/7 account and service access...   \n",
       "2  Ease of access;24/7 account and service access...   \n",
       "\n",
       "                                              35  \\\n",
       "1              Technology issues;Security issues   \n",
       "2  Security issues;Inconvenient to make deposits   \n",
       "\n",
       "                                                  36   37 38  \n",
       "1               Keep it Simple;Lightweight and speed  NaN  4  \n",
       "2  Keep it Simple;Add more features;Lightweight a...  NaN  2  \n",
       "\n",
       "[2 rows x 39 columns]"
      ]
     },
     "execution_count": 477,
     "metadata": {},
     "output_type": "execute_result"
    }
   ],
   "source": [
    "df = pd.read_csv('../data/Mobile Banking Questionnaire.csv', header=None)\n",
    "df.drop(index=0, inplace=True)\n",
    "df.head(2)"
   ]
  },
  {
   "cell_type": "code",
   "execution_count": 478,
   "metadata": {},
   "outputs": [
    {
     "name": "stdout",
     "output_type": "stream",
     "text": [
      "Skipped: nan\n",
      "Skipped: nan\n",
      "Skipped: Not Relevant\n",
      "[4, 19, 36, 61, 37]\n"
     ]
    }
   ],
   "source": [
    "satisfaction = [0,0,0,0,0]\n",
    "for index, row in df.iterrows():\n",
    "    try:\n",
    "        satisfaction[int(row[17])-1] += 1\n",
    "    except:\n",
    "        print(\"Skipped: {}\".format(row[17]))\n",
    "        pass\n",
    "\n",
    "print(satisfaction)"
   ]
  },
  {
   "cell_type": "code",
   "execution_count": 479,
   "metadata": {},
   "outputs": [
    {
     "name": "stdout",
     "output_type": "stream",
     "text": [
      "Total Responses: 160\n"
     ]
    }
   ],
   "source": [
    "total_responses = df[0].count()\n",
    "print(\"Total Responses: {}\".format(total_responses))"
   ]
  },
  {
   "cell_type": "code",
   "execution_count": 480,
   "metadata": {},
   "outputs": [
    {
     "name": "stdout",
     "output_type": "stream",
     "text": [
      "nan\n",
      "nan\n",
      "nan\n",
      "nan\n",
      "Not Relevant\n",
      "nan\n",
      "nan\n",
      "Not Relevant\n",
      "Not Relevant\n",
      "[558 559 579 579 622]\n",
      "[ 0  1 21 21 64]\n"
     ]
    }
   ],
   "source": [
    "start_q = 15\n",
    "no_of_questions = 5\n",
    "score = np.array([0 for i in range(no_of_questions)])\n",
    "row_numbers = [int(i) for i in range(start_q, start_q+no_of_questions)]\n",
    "\n",
    "for i, no in enumerate(row_numbers):\n",
    "    for index, row in df.iterrows():\n",
    "        try:\n",
    "            score[i] += int(row[no])\n",
    "        except:\n",
    "            print(row[no])\n",
    "print(score)\n",
    "new_score = score - min(score)\n",
    "print(new_score)"
   ]
  },
  {
   "cell_type": "code",
   "execution_count": 481,
   "metadata": {},
   "outputs": [],
   "source": [
    "# Question 16 "
   ]
  },
  {
   "cell_type": "code",
   "execution_count": 482,
   "metadata": {},
   "outputs": [
    {
     "name": "stdout",
     "output_type": "stream",
     "text": [
      "nan\n",
      "[668 681 708 475 301 515 555 668 514 494]\n",
      "[4.175   4.25625 4.425   2.96875 1.88125 3.21875 3.46875 4.175   3.2125\n",
      " 3.0875 ]\n"
     ]
    }
   ],
   "source": [
    "q16_points = {\"very relevant\":5, \"relevant\":3, \"no idea\":0, \"not relevant\":0}\n",
    "start_q = 22\n",
    "no_of_questions = 10\n",
    "score = np.array([0 for i in range(no_of_questions)])\n",
    "row_numbers = [int(i) for i in range(start_q, start_q+no_of_questions)]\n",
    "\n",
    "for i, no in enumerate(row_numbers):\n",
    "    for index, row in df.iterrows():\n",
    "        try:\n",
    "            score[i] += q16_points[row[no].lower()]\n",
    "        except:\n",
    "            print(row[no])\n",
    "print(score)\n",
    "new_score = score / 160\n",
    "print(new_score)"
   ]
  },
  {
   "cell_type": "code",
   "execution_count": 483,
   "metadata": {},
   "outputs": [
    {
     "name": "stderr",
     "output_type": "stream",
     "text": [
      "/home/dulanj/.local/lib/python3.6/site-packages/pandas/core/frame.py:4263: SettingWithCopyWarning: \n",
      "A value is trying to be set on a copy of a slice from a DataFrame\n",
      "\n",
      "See the caveats in the documentation: http://pandas.pydata.org/pandas-docs/stable/user_guide/indexing.html#returning-a-view-versus-a-copy\n",
      "  method=method,\n",
      "/home/dulanj/.local/lib/python3.6/site-packages/pandas/core/frame.py:4244: SettingWithCopyWarning: \n",
      "A value is trying to be set on a copy of a slice from a DataFrame\n",
      "\n",
      "See the caveats in the documentation: http://pandas.pydata.org/pandas-docs/stable/user_guide/indexing.html#returning-a-view-versus-a-copy\n",
      "  **kwargs\n"
     ]
    },
    {
     "data": {
      "text/html": [
       "<div>\n",
       "<style scoped>\n",
       "    .dataframe tbody tr th:only-of-type {\n",
       "        vertical-align: middle;\n",
       "    }\n",
       "\n",
       "    .dataframe tbody tr th {\n",
       "        vertical-align: top;\n",
       "    }\n",
       "\n",
       "    .dataframe thead th {\n",
       "        text-align: right;\n",
       "    }\n",
       "</style>\n",
       "<table border=\"1\" class=\"dataframe\">\n",
       "  <thead>\n",
       "    <tr style=\"text-align: right;\">\n",
       "      <th></th>\n",
       "      <th>22</th>\n",
       "      <th>23</th>\n",
       "      <th>24</th>\n",
       "      <th>25</th>\n",
       "      <th>26</th>\n",
       "      <th>27</th>\n",
       "      <th>28</th>\n",
       "      <th>29</th>\n",
       "      <th>30</th>\n",
       "      <th>31</th>\n",
       "      <th>32</th>\n",
       "    </tr>\n",
       "  </thead>\n",
       "  <tbody>\n",
       "    <tr>\n",
       "      <td>1</td>\n",
       "      <td>5</td>\n",
       "      <td>5</td>\n",
       "      <td>5</td>\n",
       "      <td>3</td>\n",
       "      <td>0</td>\n",
       "      <td>3</td>\n",
       "      <td>5</td>\n",
       "      <td>5</td>\n",
       "      <td>0.0</td>\n",
       "      <td>5</td>\n",
       "      <td>5</td>\n",
       "    </tr>\n",
       "    <tr>\n",
       "      <td>2</td>\n",
       "      <td>5</td>\n",
       "      <td>5</td>\n",
       "      <td>5</td>\n",
       "      <td>0</td>\n",
       "      <td>0</td>\n",
       "      <td>3</td>\n",
       "      <td>3</td>\n",
       "      <td>3</td>\n",
       "      <td>3.0</td>\n",
       "      <td>3</td>\n",
       "      <td>4</td>\n",
       "    </tr>\n",
       "    <tr>\n",
       "      <td>3</td>\n",
       "      <td>3</td>\n",
       "      <td>3</td>\n",
       "      <td>3</td>\n",
       "      <td>3</td>\n",
       "      <td>3</td>\n",
       "      <td>3</td>\n",
       "      <td>3</td>\n",
       "      <td>3</td>\n",
       "      <td>3.0</td>\n",
       "      <td>3</td>\n",
       "      <td>5</td>\n",
       "    </tr>\n",
       "    <tr>\n",
       "      <td>4</td>\n",
       "      <td>5</td>\n",
       "      <td>3</td>\n",
       "      <td>3</td>\n",
       "      <td>3</td>\n",
       "      <td>3</td>\n",
       "      <td>3</td>\n",
       "      <td>3</td>\n",
       "      <td>3</td>\n",
       "      <td>3.0</td>\n",
       "      <td>3</td>\n",
       "      <td>4</td>\n",
       "    </tr>\n",
       "    <tr>\n",
       "      <td>5</td>\n",
       "      <td>5</td>\n",
       "      <td>5</td>\n",
       "      <td>5</td>\n",
       "      <td>3</td>\n",
       "      <td>3</td>\n",
       "      <td>3</td>\n",
       "      <td>3</td>\n",
       "      <td>5</td>\n",
       "      <td>3.0</td>\n",
       "      <td>3</td>\n",
       "      <td>4</td>\n",
       "    </tr>\n",
       "  </tbody>\n",
       "</table>\n",
       "</div>"
      ],
      "text/plain": [
       "   22  23  24  25  26  27  28  29   30  31 32\n",
       "1   5   5   5   3   0   3   5   5  0.0   5  5\n",
       "2   5   5   5   0   0   3   3   3  3.0   3  4\n",
       "3   3   3   3   3   3   3   3   3  3.0   3  5\n",
       "4   5   3   3   3   3   3   3   3  3.0   3  4\n",
       "5   5   5   5   3   3   3   3   5  3.0   3  4"
      ]
     },
     "execution_count": 483,
     "metadata": {},
     "output_type": "execute_result"
    }
   ],
   "source": [
    "mobile_user_requiremtns = df[row_numbers + [32]]\n",
    "replace_dict = {\"Very relevant\":5, \"Relevant\":3, \"No Idea\":0, \"Not relevant\":0}\n",
    "mobile_user_requiremtns.replace(replace_dict, inplace=True)\n",
    "mobile_user_requiremtns.fillna(0, inplace=True)\n",
    "mobile_user_requiremtns.head()"
   ]
  },
  {
   "cell_type": "code",
   "execution_count": 484,
   "metadata": {},
   "outputs": [
    {
     "name": "stdout",
     "output_type": "stream",
     "text": [
      "<class 'pandas.core.frame.DataFrame'>\n",
      "Int64Index: 160 entries, 1 to 160\n",
      "Data columns (total 16 columns):\n",
      "22                   160 non-null int64\n",
      "23                   160 non-null int64\n",
      "24                   160 non-null int64\n",
      "25                   160 non-null int64\n",
      "26                   160 non-null int64\n",
      "27                   160 non-null int64\n",
      "28                   160 non-null int64\n",
      "29                   160 non-null int64\n",
      "30                   160 non-null float64\n",
      "31                   160 non-null int64\n",
      "32                   160 non-null object\n",
      "Security             160 non-null float64\n",
      "User Interface       160 non-null float64\n",
      "Customer Support     160 non-null float64\n",
      "Extra Features       160 non-null float64\n",
      "24x7 Availability    160 non-null float64\n",
      "dtypes: float64(6), int64(9), object(1)\n",
      "memory usage: 21.2+ KB\n"
     ]
    },
    {
     "name": "stderr",
     "output_type": "stream",
     "text": [
      "/home/dulanj/.local/lib/python3.6/site-packages/ipykernel_launcher.py:1: SettingWithCopyWarning: \n",
      "A value is trying to be set on a copy of a slice from a DataFrame.\n",
      "Try using .loc[row_indexer,col_indexer] = value instead\n",
      "\n",
      "See the caveats in the documentation: http://pandas.pydata.org/pandas-docs/stable/user_guide/indexing.html#returning-a-view-versus-a-copy\n",
      "  \"\"\"Entry point for launching an IPython kernel.\n",
      "/home/dulanj/.local/lib/python3.6/site-packages/ipykernel_launcher.py:2: SettingWithCopyWarning: \n",
      "A value is trying to be set on a copy of a slice from a DataFrame.\n",
      "Try using .loc[row_indexer,col_indexer] = value instead\n",
      "\n",
      "See the caveats in the documentation: http://pandas.pydata.org/pandas-docs/stable/user_guide/indexing.html#returning-a-view-versus-a-copy\n",
      "  \n",
      "/home/dulanj/.local/lib/python3.6/site-packages/ipykernel_launcher.py:3: SettingWithCopyWarning: \n",
      "A value is trying to be set on a copy of a slice from a DataFrame.\n",
      "Try using .loc[row_indexer,col_indexer] = value instead\n",
      "\n",
      "See the caveats in the documentation: http://pandas.pydata.org/pandas-docs/stable/user_guide/indexing.html#returning-a-view-versus-a-copy\n",
      "  This is separate from the ipykernel package so we can avoid doing imports until\n",
      "/home/dulanj/.local/lib/python3.6/site-packages/ipykernel_launcher.py:4: SettingWithCopyWarning: \n",
      "A value is trying to be set on a copy of a slice from a DataFrame.\n",
      "Try using .loc[row_indexer,col_indexer] = value instead\n",
      "\n",
      "See the caveats in the documentation: http://pandas.pydata.org/pandas-docs/stable/user_guide/indexing.html#returning-a-view-versus-a-copy\n",
      "  after removing the cwd from sys.path.\n",
      "/home/dulanj/.local/lib/python3.6/site-packages/ipykernel_launcher.py:5: SettingWithCopyWarning: \n",
      "A value is trying to be set on a copy of a slice from a DataFrame.\n",
      "Try using .loc[row_indexer,col_indexer] = value instead\n",
      "\n",
      "See the caveats in the documentation: http://pandas.pydata.org/pandas-docs/stable/user_guide/indexing.html#returning-a-view-versus-a-copy\n",
      "  \"\"\"\n"
     ]
    }
   ],
   "source": [
    "mobile_user_requiremtns['Security'] = (mobile_user_requiremtns[24] + mobile_user_requiremtns[24])/2\n",
    "mobile_user_requiremtns['User Interface'] = (mobile_user_requiremtns[22]+mobile_user_requiremtns[23]+mobile_user_requiremtns[25])/3\n",
    "mobile_user_requiremtns['Customer Support'] = (mobile_user_requiremtns[27]+mobile_user_requiremtns[28]+mobile_user_requiremtns[30]+mobile_user_requiremtns[29])/4\n",
    "mobile_user_requiremtns['Extra Features'] = (mobile_user_requiremtns[30]+mobile_user_requiremtns[25])/2\n",
    "mobile_user_requiremtns['24x7 Availability'] = (mobile_user_requiremtns[22]+mobile_user_requiremtns[29])/2\n",
    "mobile_user_requiremtns.astype(np.float64)\n",
    "mobile_user_requiremtns.info()"
   ]
  },
  {
   "cell_type": "code",
   "execution_count": 485,
   "metadata": {},
   "outputs": [],
   "source": [
    "mobile_user_requiremtns_cat = mobile_user_requiremtns.drop([22, 23, 24, 25, 26, 27, 28, 29, 30, 31, 32], axis=1)\n"
   ]
  },
  {
   "cell_type": "code",
   "execution_count": 486,
   "metadata": {},
   "outputs": [],
   "source": [
    "# for i in mobile_user_requiremtns[24]:\n",
    "#     print(int(i))"
   ]
  },
  {
   "cell_type": "code",
   "execution_count": 487,
   "metadata": {},
   "outputs": [
    {
     "data": {
      "text/html": [
       "<div>\n",
       "<style scoped>\n",
       "    .dataframe tbody tr th:only-of-type {\n",
       "        vertical-align: middle;\n",
       "    }\n",
       "\n",
       "    .dataframe tbody tr th {\n",
       "        vertical-align: top;\n",
       "    }\n",
       "\n",
       "    .dataframe thead th {\n",
       "        text-align: right;\n",
       "    }\n",
       "</style>\n",
       "<table border=\"1\" class=\"dataframe\">\n",
       "  <thead>\n",
       "    <tr style=\"text-align: right;\">\n",
       "      <th></th>\n",
       "      <th>Security</th>\n",
       "      <th>User Interface</th>\n",
       "      <th>Customer Support</th>\n",
       "      <th>Extra Features</th>\n",
       "      <th>24x7 Availability</th>\n",
       "    </tr>\n",
       "  </thead>\n",
       "  <tbody>\n",
       "    <tr>\n",
       "      <td>1</td>\n",
       "      <td>5.0</td>\n",
       "      <td>4.333333</td>\n",
       "      <td>3.25</td>\n",
       "      <td>1.5</td>\n",
       "      <td>5.0</td>\n",
       "    </tr>\n",
       "    <tr>\n",
       "      <td>2</td>\n",
       "      <td>5.0</td>\n",
       "      <td>3.333333</td>\n",
       "      <td>3.00</td>\n",
       "      <td>1.5</td>\n",
       "      <td>4.0</td>\n",
       "    </tr>\n",
       "    <tr>\n",
       "      <td>3</td>\n",
       "      <td>3.0</td>\n",
       "      <td>3.000000</td>\n",
       "      <td>3.00</td>\n",
       "      <td>3.0</td>\n",
       "      <td>3.0</td>\n",
       "    </tr>\n",
       "    <tr>\n",
       "      <td>4</td>\n",
       "      <td>3.0</td>\n",
       "      <td>3.666667</td>\n",
       "      <td>3.00</td>\n",
       "      <td>3.0</td>\n",
       "      <td>4.0</td>\n",
       "    </tr>\n",
       "    <tr>\n",
       "      <td>5</td>\n",
       "      <td>5.0</td>\n",
       "      <td>4.333333</td>\n",
       "      <td>3.50</td>\n",
       "      <td>3.0</td>\n",
       "      <td>5.0</td>\n",
       "    </tr>\n",
       "  </tbody>\n",
       "</table>\n",
       "</div>"
      ],
      "text/plain": [
       "   Security  User Interface  Customer Support  Extra Features  \\\n",
       "1       5.0        4.333333              3.25             1.5   \n",
       "2       5.0        3.333333              3.00             1.5   \n",
       "3       3.0        3.000000              3.00             3.0   \n",
       "4       3.0        3.666667              3.00             3.0   \n",
       "5       5.0        4.333333              3.50             3.0   \n",
       "\n",
       "   24x7 Availability  \n",
       "1                5.0  \n",
       "2                4.0  \n",
       "3                3.0  \n",
       "4                4.0  \n",
       "5                5.0  "
      ]
     },
     "execution_count": 487,
     "metadata": {},
     "output_type": "execute_result"
    }
   ],
   "source": [
    "mobile_user_requiremtns_cat.head()"
   ]
  },
  {
   "cell_type": "code",
   "execution_count": null,
   "metadata": {},
   "outputs": [],
   "source": []
  },
  {
   "cell_type": "code",
   "execution_count": 488,
   "metadata": {},
   "outputs": [
    {
     "data": {
      "image/png": "[encoded data removed]",
      "text/plain": [
       "<Figure size 1080x432 with 1 Axes>"
      ]
     },
     "metadata": {},
     "output_type": "display_data"
    }
   ],
   "source": [
    "plt.figure(figsize=(15,6))\n",
    "\n",
    "sns.boxplot(x=\"variable\", y=\"value\", data=pd.melt(mobile_user_requiremtns_cat),palette=(\"Blues\"))\n",
    "plt.title('Rank of Importance given for each Feature - (5 is highest)')\n",
    "plt.ylabel('Rank', fontsize=12)\n",
    "plt.xlabel('Expected Features', fontsize=12)\n",
    "plt.show()"
   ]
  },
  {
   "cell_type": "code",
   "execution_count": 489,
   "metadata": {},
   "outputs": [
    {
     "name": "stdout",
     "output_type": "stream",
     "text": [
      "high\n",
      "Security\n",
      "Mean : 4.43801652892562 STD: 1.245770112533012 N : 121\n",
      "User Interface\n",
      "Mean : 3.8484848484848486 STD: 0.925111364998409 N : 121\n",
      "Customer Support\n",
      "Mean : 3.5289256198347108 STD: 1.0435704775313592 N : 121\n",
      "Extra Features\n",
      "Mean : 3.169421487603306 STD: 1.2018472679197019 N : 121\n",
      "24x7 Availability\n",
      "Mean : 4.198347107438017 STD: 1.076571192448037 N : 121\n",
      "low\n",
      "Security\n",
      "Mean : 4.384615384615385 STD: 1.2733034890189885 N : 39\n",
      "User Interface\n",
      "Mean : 3.64957264957265 STD: 0.9025090633308922 N : 39\n",
      "Customer Support\n",
      "Mean : 3.4871794871794872 STD: 1.308194976289651 N : 39\n",
      "Extra Features\n",
      "Mean : 2.8461538461538463 STD: 1.330865566395998 N : 39\n",
      "24x7 Availability\n",
      "Mean : 4.102564102564102 STD: 1.051125691936904 N : 39\n"
     ]
    }
   ],
   "source": [
    "mobile_user_requiremtns_aggrigated = mobile_user_requiremtns.drop([22, 23, 24, 25, 26, 27, 28, 29, 30, 31],  axis=1)\n",
    "\n",
    "colomns = ['Security', 'User Interface', 'Customer Support', 'Extra Features', '24x7 Availability']\n",
    "satisfctory_dict = {'high': {}, 'low': {}}\n",
    "for index, row in mobile_user_requiremtns_aggrigated.iterrows():\n",
    "    satisfaction = int(row[32])\n",
    "    for item in colomns:\n",
    "        SAT = 'high' if satisfaction >= 4 else 'low' if satisfaction < 4 else None\n",
    "        if SAT is None:\n",
    "#             SAT = 'high'\n",
    "#             if item not in satisfctory_dict[SAT]:\n",
    "#                 satisfctory_dict[SAT][item] = []\n",
    "#             satisfctory_dict[SAT][item].append(row[item])\n",
    "            continue\n",
    "#             SAT = 'low'\n",
    "        if item not in satisfctory_dict[SAT]:\n",
    "            satisfctory_dict[SAT][item] = []\n",
    "        satisfctory_dict[SAT][item].append(row[item])\n",
    "\n",
    "satisfctory_dict\n",
    "for key, val in satisfctory_dict.items():\n",
    "    print(key)\n",
    "    for key2, val2 in val.items():\n",
    "        print(key2)\n",
    "        print(\"Mean : {} STD: {} N : {}\".format(np.mean(val2), np.std(val2), len(val2)))"
   ]
  },
  {
   "cell_type": "markdown",
   "metadata": {},
   "source": [
    "# Frequency vs Income & Distance"
   ]
  },
  {
   "cell_type": "code",
   "execution_count": 490,
   "metadata": {},
   "outputs": [
    {
     "data": {
      "text/html": [
       "<div>\n",
       "<style scoped>\n",
       "    .dataframe tbody tr th:only-of-type {\n",
       "        vertical-align: middle;\n",
       "    }\n",
       "\n",
       "    .dataframe tbody tr th {\n",
       "        vertical-align: top;\n",
       "    }\n",
       "\n",
       "    .dataframe thead th {\n",
       "        text-align: right;\n",
       "    }\n",
       "</style>\n",
       "<table border=\"1\" class=\"dataframe\">\n",
       "  <thead>\n",
       "    <tr style=\"text-align: right;\">\n",
       "      <th></th>\n",
       "      <th>6</th>\n",
       "      <th>12</th>\n",
       "      <th>13</th>\n",
       "    </tr>\n",
       "  </thead>\n",
       "  <tbody>\n",
       "    <tr>\n",
       "      <td>1</td>\n",
       "      <td>100,000 - 150,000</td>\n",
       "      <td>Weekly – Several Times</td>\n",
       "      <td>100m to 1Km</td>\n",
       "    </tr>\n",
       "    <tr>\n",
       "      <td>2</td>\n",
       "      <td>100,000 - 150,000</td>\n",
       "      <td>Monthly – Several Times</td>\n",
       "      <td>1Km to 5Km</td>\n",
       "    </tr>\n",
       "    <tr>\n",
       "      <td>3</td>\n",
       "      <td>100,000 - 150,000</td>\n",
       "      <td>Weekly – Several Times</td>\n",
       "      <td>more than 5Km</td>\n",
       "    </tr>\n",
       "    <tr>\n",
       "      <td>4</td>\n",
       "      <td>50,000 - 100,000</td>\n",
       "      <td>Daily – Several Times</td>\n",
       "      <td>100m to 1Km</td>\n",
       "    </tr>\n",
       "    <tr>\n",
       "      <td>5</td>\n",
       "      <td>100,000 - 150,000</td>\n",
       "      <td>Weekly – Several Times</td>\n",
       "      <td>100m to 1Km</td>\n",
       "    </tr>\n",
       "  </tbody>\n",
       "</table>\n",
       "</div>"
      ],
      "text/plain": [
       "                  6                        12             13\n",
       "1  100,000 - 150,000   Weekly – Several Times    100m to 1Km\n",
       "2  100,000 - 150,000  Monthly – Several Times     1Km to 5Km\n",
       "3  100,000 - 150,000   Weekly – Several Times  more than 5Km\n",
       "4   50,000 - 100,000    Daily – Several Times    100m to 1Km\n",
       "5  100,000 - 150,000   Weekly – Several Times    100m to 1Km"
      ]
     },
     "execution_count": 490,
     "metadata": {},
     "output_type": "execute_result"
    }
   ],
   "source": [
    "freq_income = df[[6, 12, 13]]\n",
    "freq_income.head()"
   ]
  },
  {
   "cell_type": "code",
   "execution_count": 491,
   "metadata": {},
   "outputs": [
    {
     "name": "stderr",
     "output_type": "stream",
     "text": [
      "/home/dulanj/.local/lib/python3.6/site-packages/ipykernel_launcher.py:10: SettingWithCopyWarning: \n",
      "A value is trying to be set on a copy of a slice from a DataFrame.\n",
      "Try using .loc[row_indexer,col_indexer] = value instead\n",
      "\n",
      "See the caveats in the documentation: http://pandas.pydata.org/pandas-docs/stable/user_guide/indexing.html#returning-a-view-versus-a-copy\n",
      "  # Remove the CWD from sys.path while we load stuff.\n"
     ]
    },
    {
     "data": {
      "text/html": [
       "<div>\n",
       "<style scoped>\n",
       "    .dataframe tbody tr th:only-of-type {\n",
       "        vertical-align: middle;\n",
       "    }\n",
       "\n",
       "    .dataframe tbody tr th {\n",
       "        vertical-align: top;\n",
       "    }\n",
       "\n",
       "    .dataframe thead th {\n",
       "        text-align: right;\n",
       "    }\n",
       "</style>\n",
       "<table border=\"1\" class=\"dataframe\">\n",
       "  <thead>\n",
       "    <tr style=\"text-align: right;\">\n",
       "      <th></th>\n",
       "      <th>6</th>\n",
       "      <th>12</th>\n",
       "      <th>13</th>\n",
       "      <th>income</th>\n",
       "    </tr>\n",
       "  </thead>\n",
       "  <tbody>\n",
       "    <tr>\n",
       "      <td>1</td>\n",
       "      <td>100,000 - 150,000</td>\n",
       "      <td>Weekly – Several Times</td>\n",
       "      <td>100m to 1Km</td>\n",
       "      <td>middle</td>\n",
       "    </tr>\n",
       "    <tr>\n",
       "      <td>2</td>\n",
       "      <td>100,000 - 150,000</td>\n",
       "      <td>Monthly – Several Times</td>\n",
       "      <td>1Km to 5Km</td>\n",
       "      <td>middle</td>\n",
       "    </tr>\n",
       "    <tr>\n",
       "      <td>3</td>\n",
       "      <td>100,000 - 150,000</td>\n",
       "      <td>Weekly – Several Times</td>\n",
       "      <td>more than 5Km</td>\n",
       "      <td>middle</td>\n",
       "    </tr>\n",
       "    <tr>\n",
       "      <td>4</td>\n",
       "      <td>50,000 - 100,000</td>\n",
       "      <td>Daily – Several Times</td>\n",
       "      <td>100m to 1Km</td>\n",
       "      <td>low</td>\n",
       "    </tr>\n",
       "    <tr>\n",
       "      <td>5</td>\n",
       "      <td>100,000 - 150,000</td>\n",
       "      <td>Weekly – Several Times</td>\n",
       "      <td>100m to 1Km</td>\n",
       "      <td>middle</td>\n",
       "    </tr>\n",
       "    <tr>\n",
       "      <td>6</td>\n",
       "      <td>200,000+</td>\n",
       "      <td>Weekly – Once</td>\n",
       "      <td>1Km to 5Km</td>\n",
       "      <td>high</td>\n",
       "    </tr>\n",
       "    <tr>\n",
       "      <td>7</td>\n",
       "      <td>50,000 - 100,000</td>\n",
       "      <td>Weekly – Several Times</td>\n",
       "      <td>100m to 1Km</td>\n",
       "      <td>low</td>\n",
       "    </tr>\n",
       "    <tr>\n",
       "      <td>8</td>\n",
       "      <td>100,000 - 150,000</td>\n",
       "      <td>Daily – Several Times</td>\n",
       "      <td>less than 100m</td>\n",
       "      <td>middle</td>\n",
       "    </tr>\n",
       "    <tr>\n",
       "      <td>9</td>\n",
       "      <td>100,000 - 150,000</td>\n",
       "      <td>Weekly – Several Times</td>\n",
       "      <td>100m to 1Km</td>\n",
       "      <td>middle</td>\n",
       "    </tr>\n",
       "    <tr>\n",
       "      <td>10</td>\n",
       "      <td>Below 50,000</td>\n",
       "      <td>Weekly – Several Times</td>\n",
       "      <td>1Km to 5Km</td>\n",
       "      <td>low</td>\n",
       "    </tr>\n",
       "  </tbody>\n",
       "</table>\n",
       "</div>"
      ],
      "text/plain": [
       "                    6                       12              13  income\n",
       "1   100,000 - 150,000   Weekly – Several Times     100m to 1Km  middle\n",
       "2   100,000 - 150,000  Monthly – Several Times      1Km to 5Km  middle\n",
       "3   100,000 - 150,000   Weekly – Several Times   more than 5Km  middle\n",
       "4    50,000 - 100,000    Daily – Several Times     100m to 1Km     low\n",
       "5   100,000 - 150,000   Weekly – Several Times     100m to 1Km  middle\n",
       "6            200,000+            Weekly – Once      1Km to 5Km    high\n",
       "7    50,000 - 100,000   Weekly – Several Times     100m to 1Km     low\n",
       "8   100,000 - 150,000    Daily – Several Times  less than 100m  middle\n",
       "9   100,000 - 150,000   Weekly – Several Times     100m to 1Km  middle\n",
       "10       Below 50,000   Weekly – Several Times      1Km to 5Km     low"
      ]
     },
     "execution_count": 491,
     "metadata": {},
     "output_type": "execute_result"
    }
   ],
   "source": [
    "def income(row):\n",
    "    inc = str(row[6])\n",
    "    if '50,000 - 100,000' in inc or 'Below 50,000' in inc:\n",
    "        return 'low'\n",
    "    elif '100,000 - 150,000' in inc:\n",
    "        return 'middle'\n",
    "    else:\n",
    "        return 'high'\n",
    "\n",
    "freq_income['income'] = df.apply (lambda row: income(row), axis=1)\n",
    "freq_income.head(10)"
   ]
  },
  {
   "cell_type": "code",
   "execution_count": 492,
   "metadata": {},
   "outputs": [
    {
     "name": "stderr",
     "output_type": "stream",
     "text": [
      "/home/dulanj/.local/lib/python3.6/site-packages/ipykernel_launcher.py:12: SettingWithCopyWarning: \n",
      "A value is trying to be set on a copy of a slice from a DataFrame.\n",
      "Try using .loc[row_indexer,col_indexer] = value instead\n",
      "\n",
      "See the caveats in the documentation: http://pandas.pydata.org/pandas-docs/stable/user_guide/indexing.html#returning-a-view-versus-a-copy\n",
      "  if sys.path[0] == '':\n"
     ]
    },
    {
     "data": {
      "text/html": [
       "<div>\n",
       "<style scoped>\n",
       "    .dataframe tbody tr th:only-of-type {\n",
       "        vertical-align: middle;\n",
       "    }\n",
       "\n",
       "    .dataframe tbody tr th {\n",
       "        vertical-align: top;\n",
       "    }\n",
       "\n",
       "    .dataframe thead th {\n",
       "        text-align: right;\n",
       "    }\n",
       "</style>\n",
       "<table border=\"1\" class=\"dataframe\">\n",
       "  <thead>\n",
       "    <tr style=\"text-align: right;\">\n",
       "      <th></th>\n",
       "      <th>6</th>\n",
       "      <th>12</th>\n",
       "      <th>13</th>\n",
       "      <th>income</th>\n",
       "      <th>frequency</th>\n",
       "    </tr>\n",
       "  </thead>\n",
       "  <tbody>\n",
       "    <tr>\n",
       "      <td>1</td>\n",
       "      <td>100,000 - 150,000</td>\n",
       "      <td>Weekly – Several Times</td>\n",
       "      <td>100m to 1Km</td>\n",
       "      <td>middle</td>\n",
       "      <td>weekly</td>\n",
       "    </tr>\n",
       "    <tr>\n",
       "      <td>2</td>\n",
       "      <td>100,000 - 150,000</td>\n",
       "      <td>Monthly – Several Times</td>\n",
       "      <td>1Km to 5Km</td>\n",
       "      <td>middle</td>\n",
       "      <td>monthly</td>\n",
       "    </tr>\n",
       "    <tr>\n",
       "      <td>3</td>\n",
       "      <td>100,000 - 150,000</td>\n",
       "      <td>Weekly – Several Times</td>\n",
       "      <td>more than 5Km</td>\n",
       "      <td>middle</td>\n",
       "      <td>weekly</td>\n",
       "    </tr>\n",
       "    <tr>\n",
       "      <td>4</td>\n",
       "      <td>50,000 - 100,000</td>\n",
       "      <td>Daily – Several Times</td>\n",
       "      <td>100m to 1Km</td>\n",
       "      <td>low</td>\n",
       "      <td>daily</td>\n",
       "    </tr>\n",
       "    <tr>\n",
       "      <td>5</td>\n",
       "      <td>100,000 - 150,000</td>\n",
       "      <td>Weekly – Several Times</td>\n",
       "      <td>100m to 1Km</td>\n",
       "      <td>middle</td>\n",
       "      <td>weekly</td>\n",
       "    </tr>\n",
       "    <tr>\n",
       "      <td>6</td>\n",
       "      <td>200,000+</td>\n",
       "      <td>Weekly – Once</td>\n",
       "      <td>1Km to 5Km</td>\n",
       "      <td>high</td>\n",
       "      <td>weekly</td>\n",
       "    </tr>\n",
       "    <tr>\n",
       "      <td>7</td>\n",
       "      <td>50,000 - 100,000</td>\n",
       "      <td>Weekly – Several Times</td>\n",
       "      <td>100m to 1Km</td>\n",
       "      <td>low</td>\n",
       "      <td>weekly</td>\n",
       "    </tr>\n",
       "    <tr>\n",
       "      <td>8</td>\n",
       "      <td>100,000 - 150,000</td>\n",
       "      <td>Daily – Several Times</td>\n",
       "      <td>less than 100m</td>\n",
       "      <td>middle</td>\n",
       "      <td>daily</td>\n",
       "    </tr>\n",
       "    <tr>\n",
       "      <td>9</td>\n",
       "      <td>100,000 - 150,000</td>\n",
       "      <td>Weekly – Several Times</td>\n",
       "      <td>100m to 1Km</td>\n",
       "      <td>middle</td>\n",
       "      <td>weekly</td>\n",
       "    </tr>\n",
       "    <tr>\n",
       "      <td>10</td>\n",
       "      <td>Below 50,000</td>\n",
       "      <td>Weekly – Several Times</td>\n",
       "      <td>1Km to 5Km</td>\n",
       "      <td>low</td>\n",
       "      <td>weekly</td>\n",
       "    </tr>\n",
       "  </tbody>\n",
       "</table>\n",
       "</div>"
      ],
      "text/plain": [
       "                    6                       12              13  income  \\\n",
       "1   100,000 - 150,000   Weekly – Several Times     100m to 1Km  middle   \n",
       "2   100,000 - 150,000  Monthly – Several Times      1Km to 5Km  middle   \n",
       "3   100,000 - 150,000   Weekly – Several Times   more than 5Km  middle   \n",
       "4    50,000 - 100,000    Daily – Several Times     100m to 1Km     low   \n",
       "5   100,000 - 150,000   Weekly – Several Times     100m to 1Km  middle   \n",
       "6            200,000+            Weekly – Once      1Km to 5Km    high   \n",
       "7    50,000 - 100,000   Weekly – Several Times     100m to 1Km     low   \n",
       "8   100,000 - 150,000    Daily – Several Times  less than 100m  middle   \n",
       "9   100,000 - 150,000   Weekly – Several Times     100m to 1Km  middle   \n",
       "10       Below 50,000   Weekly – Several Times      1Km to 5Km     low   \n",
       "\n",
       "   frequency  \n",
       "1     weekly  \n",
       "2    monthly  \n",
       "3     weekly  \n",
       "4      daily  \n",
       "5     weekly  \n",
       "6     weekly  \n",
       "7     weekly  \n",
       "8      daily  \n",
       "9     weekly  \n",
       "10    weekly  "
      ]
     },
     "execution_count": 492,
     "metadata": {},
     "output_type": "execute_result"
    }
   ],
   "source": [
    "def frequency(row):\n",
    "    freq = str(row[12])\n",
    "    if 'Daily' in freq:\n",
    "        return 'daily'\n",
    "    elif 'Weekly' in freq:\n",
    "        return 'weekly'\n",
    "    elif 'Monthly' in freq:\n",
    "        return 'monthly'\n",
    "    else:\n",
    "        return None\n",
    "\n",
    "freq_income['frequency'] = df.apply (lambda row: frequency(row), axis=1)\n",
    "freq_income.head(10)"
   ]
  },
  {
   "cell_type": "code",
   "execution_count": 493,
   "metadata": {},
   "outputs": [
    {
     "name": "stderr",
     "output_type": "stream",
     "text": [
      "/home/dulanj/.local/lib/python3.6/site-packages/ipykernel_launcher.py:10: SettingWithCopyWarning: \n",
      "A value is trying to be set on a copy of a slice from a DataFrame.\n",
      "Try using .loc[row_indexer,col_indexer] = value instead\n",
      "\n",
      "See the caveats in the documentation: http://pandas.pydata.org/pandas-docs/stable/user_guide/indexing.html#returning-a-view-versus-a-copy\n",
      "  # Remove the CWD from sys.path while we load stuff.\n"
     ]
    },
    {
     "data": {
      "text/html": [
       "<div>\n",
       "<style scoped>\n",
       "    .dataframe tbody tr th:only-of-type {\n",
       "        vertical-align: middle;\n",
       "    }\n",
       "\n",
       "    .dataframe tbody tr th {\n",
       "        vertical-align: top;\n",
       "    }\n",
       "\n",
       "    .dataframe thead th {\n",
       "        text-align: right;\n",
       "    }\n",
       "</style>\n",
       "<table border=\"1\" class=\"dataframe\">\n",
       "  <thead>\n",
       "    <tr style=\"text-align: right;\">\n",
       "      <th></th>\n",
       "      <th>6</th>\n",
       "      <th>12</th>\n",
       "      <th>13</th>\n",
       "      <th>income</th>\n",
       "      <th>frequency</th>\n",
       "      <th>distance</th>\n",
       "    </tr>\n",
       "  </thead>\n",
       "  <tbody>\n",
       "    <tr>\n",
       "      <td>1</td>\n",
       "      <td>100,000 - 150,000</td>\n",
       "      <td>Weekly – Several Times</td>\n",
       "      <td>100m to 1Km</td>\n",
       "      <td>middle</td>\n",
       "      <td>weekly</td>\n",
       "      <td>close</td>\n",
       "    </tr>\n",
       "    <tr>\n",
       "      <td>2</td>\n",
       "      <td>100,000 - 150,000</td>\n",
       "      <td>Monthly – Several Times</td>\n",
       "      <td>1Km to 5Km</td>\n",
       "      <td>middle</td>\n",
       "      <td>monthly</td>\n",
       "      <td>far</td>\n",
       "    </tr>\n",
       "    <tr>\n",
       "      <td>3</td>\n",
       "      <td>100,000 - 150,000</td>\n",
       "      <td>Weekly – Several Times</td>\n",
       "      <td>more than 5Km</td>\n",
       "      <td>middle</td>\n",
       "      <td>weekly</td>\n",
       "      <td>far</td>\n",
       "    </tr>\n",
       "    <tr>\n",
       "      <td>4</td>\n",
       "      <td>50,000 - 100,000</td>\n",
       "      <td>Daily – Several Times</td>\n",
       "      <td>100m to 1Km</td>\n",
       "      <td>low</td>\n",
       "      <td>daily</td>\n",
       "      <td>close</td>\n",
       "    </tr>\n",
       "    <tr>\n",
       "      <td>5</td>\n",
       "      <td>100,000 - 150,000</td>\n",
       "      <td>Weekly – Several Times</td>\n",
       "      <td>100m to 1Km</td>\n",
       "      <td>middle</td>\n",
       "      <td>weekly</td>\n",
       "      <td>close</td>\n",
       "    </tr>\n",
       "    <tr>\n",
       "      <td>6</td>\n",
       "      <td>200,000+</td>\n",
       "      <td>Weekly – Once</td>\n",
       "      <td>1Km to 5Km</td>\n",
       "      <td>high</td>\n",
       "      <td>weekly</td>\n",
       "      <td>far</td>\n",
       "    </tr>\n",
       "    <tr>\n",
       "      <td>7</td>\n",
       "      <td>50,000 - 100,000</td>\n",
       "      <td>Weekly – Several Times</td>\n",
       "      <td>100m to 1Km</td>\n",
       "      <td>low</td>\n",
       "      <td>weekly</td>\n",
       "      <td>close</td>\n",
       "    </tr>\n",
       "    <tr>\n",
       "      <td>8</td>\n",
       "      <td>100,000 - 150,000</td>\n",
       "      <td>Daily – Several Times</td>\n",
       "      <td>less than 100m</td>\n",
       "      <td>middle</td>\n",
       "      <td>daily</td>\n",
       "      <td>close</td>\n",
       "    </tr>\n",
       "    <tr>\n",
       "      <td>9</td>\n",
       "      <td>100,000 - 150,000</td>\n",
       "      <td>Weekly – Several Times</td>\n",
       "      <td>100m to 1Km</td>\n",
       "      <td>middle</td>\n",
       "      <td>weekly</td>\n",
       "      <td>close</td>\n",
       "    </tr>\n",
       "    <tr>\n",
       "      <td>10</td>\n",
       "      <td>Below 50,000</td>\n",
       "      <td>Weekly – Several Times</td>\n",
       "      <td>1Km to 5Km</td>\n",
       "      <td>low</td>\n",
       "      <td>weekly</td>\n",
       "      <td>far</td>\n",
       "    </tr>\n",
       "  </tbody>\n",
       "</table>\n",
       "</div>"
      ],
      "text/plain": [
       "                    6                       12              13  income  \\\n",
       "1   100,000 - 150,000   Weekly – Several Times     100m to 1Km  middle   \n",
       "2   100,000 - 150,000  Monthly – Several Times      1Km to 5Km  middle   \n",
       "3   100,000 - 150,000   Weekly – Several Times   more than 5Km  middle   \n",
       "4    50,000 - 100,000    Daily – Several Times     100m to 1Km     low   \n",
       "5   100,000 - 150,000   Weekly – Several Times     100m to 1Km  middle   \n",
       "6            200,000+            Weekly – Once      1Km to 5Km    high   \n",
       "7    50,000 - 100,000   Weekly – Several Times     100m to 1Km     low   \n",
       "8   100,000 - 150,000    Daily – Several Times  less than 100m  middle   \n",
       "9   100,000 - 150,000   Weekly – Several Times     100m to 1Km  middle   \n",
       "10       Below 50,000   Weekly – Several Times      1Km to 5Km     low   \n",
       "\n",
       "   frequency distance  \n",
       "1     weekly    close  \n",
       "2    monthly      far  \n",
       "3     weekly      far  \n",
       "4      daily    close  \n",
       "5     weekly    close  \n",
       "6     weekly      far  \n",
       "7     weekly    close  \n",
       "8      daily    close  \n",
       "9     weekly    close  \n",
       "10    weekly      far  "
      ]
     },
     "execution_count": 493,
     "metadata": {},
     "output_type": "execute_result"
    }
   ],
   "source": [
    "def distance(row):\n",
    "    dist = str(row[13])\n",
    "    if '100m' in dist :\n",
    "        return 'close'\n",
    "    elif '5Km' in dist or '1Km' in dist:\n",
    "        return 'far'\n",
    "    else:\n",
    "        return None\n",
    "\n",
    "freq_income['distance'] = df.apply (lambda row: distance(row), axis=1)\n",
    "freq_income.head(10)"
   ]
  },
  {
   "cell_type": "code",
   "execution_count": 494,
   "metadata": {},
   "outputs": [
    {
     "data": {
      "text/html": [
       "<div>\n",
       "<style scoped>\n",
       "    .dataframe tbody tr th:only-of-type {\n",
       "        vertical-align: middle;\n",
       "    }\n",
       "\n",
       "    .dataframe tbody tr th {\n",
       "        vertical-align: top;\n",
       "    }\n",
       "\n",
       "    .dataframe thead th {\n",
       "        text-align: right;\n",
       "    }\n",
       "</style>\n",
       "<table border=\"1\" class=\"dataframe\">\n",
       "  <thead>\n",
       "    <tr style=\"text-align: right;\">\n",
       "      <th></th>\n",
       "      <th>income</th>\n",
       "      <th>frequency</th>\n",
       "      <th>distance</th>\n",
       "    </tr>\n",
       "  </thead>\n",
       "  <tbody>\n",
       "    <tr>\n",
       "      <td>1</td>\n",
       "      <td>middle</td>\n",
       "      <td>weekly</td>\n",
       "      <td>close</td>\n",
       "    </tr>\n",
       "    <tr>\n",
       "      <td>2</td>\n",
       "      <td>middle</td>\n",
       "      <td>monthly</td>\n",
       "      <td>far</td>\n",
       "    </tr>\n",
       "    <tr>\n",
       "      <td>3</td>\n",
       "      <td>middle</td>\n",
       "      <td>weekly</td>\n",
       "      <td>far</td>\n",
       "    </tr>\n",
       "    <tr>\n",
       "      <td>4</td>\n",
       "      <td>low</td>\n",
       "      <td>daily</td>\n",
       "      <td>close</td>\n",
       "    </tr>\n",
       "    <tr>\n",
       "      <td>5</td>\n",
       "      <td>middle</td>\n",
       "      <td>weekly</td>\n",
       "      <td>close</td>\n",
       "    </tr>\n",
       "  </tbody>\n",
       "</table>\n",
       "</div>"
      ],
      "text/plain": [
       "   income frequency distance\n",
       "1  middle    weekly    close\n",
       "2  middle   monthly      far\n",
       "3  middle    weekly      far\n",
       "4     low     daily    close\n",
       "5  middle    weekly    close"
      ]
     },
     "execution_count": 494,
     "metadata": {},
     "output_type": "execute_result"
    }
   ],
   "source": [
    "freq_income_only = freq_income.drop([6,12, 13], axis=1)\n",
    "freq_income_only.head()"
   ]
  },
  {
   "cell_type": "code",
   "execution_count": 495,
   "metadata": {},
   "outputs": [
    {
     "data": {
      "text/plain": [
       "income  frequency\n",
       "high    daily         7\n",
       "        monthly      11\n",
       "        weekly       21\n",
       "low     daily         7\n",
       "        monthly      25\n",
       "        weekly       35\n",
       "middle  daily         6\n",
       "        monthly      17\n",
       "        weekly       29\n",
       "dtype: int64"
      ]
     },
     "execution_count": 495,
     "metadata": {},
     "output_type": "execute_result"
    }
   ],
   "source": [
    "freq_income_only.groupby(['income', 'frequency']).size()"
   ]
  },
  {
   "cell_type": "code",
   "execution_count": 496,
   "metadata": {},
   "outputs": [
    {
     "data": {
      "text/plain": [
       "distance  frequency\n",
       "close     daily         6\n",
       "          monthly      14\n",
       "          weekly       25\n",
       "far       daily        14\n",
       "          monthly      39\n",
       "          weekly       60\n",
       "dtype: int64"
      ]
     },
     "execution_count": 496,
     "metadata": {},
     "output_type": "execute_result"
    }
   ],
   "source": [
    "freq_income_only.groupby(['distance', 'frequency']).size()"
   ]
  },
  {
   "cell_type": "markdown",
   "metadata": {},
   "source": [
    "# Visualizations"
   ]
  },
  {
   "cell_type": "code",
   "execution_count": 497,
   "metadata": {
    "pycharm": {
     "name": "#%%\n"
    }
   },
   "outputs": [
    {
     "data": {
      "text/plain": [
       "Int64Index([ 0,  1,  2,  3,  4,  5,  6,  7,  8,  9, 10, 11, 12, 13, 14, 15, 16,\n",
       "            17, 18, 19, 20, 21, 22, 23, 24, 25, 26, 27, 28, 29, 30, 31, 32, 33,\n",
       "            34, 35, 36, 37, 38],\n",
       "           dtype='int64')"
      ]
     },
     "execution_count": 497,
     "metadata": {},
     "output_type": "execute_result"
    }
   ],
   "source": [
    "df.columns"
   ]
  },
  {
   "cell_type": "code",
   "execution_count": 498,
   "metadata": {},
   "outputs": [],
   "source": [
    "def pie_chart(col_no):\n",
    "    out = df[col_no].value_counts()\n",
    "    print(out)\n",
    "    out.plot.pie(figsize=(10, 10), shadow = True, startangle=90, autopct='%1.1f%%')"
   ]
  },
  {
   "cell_type": "code",
   "execution_count": 499,
   "metadata": {},
   "outputs": [],
   "source": [
    "def bar_chart(col_no):\n",
    "    out = df[col_no].value_counts()\n",
    "    print(out)\n",
    "    out.plot.bar(figsize=(16, 8))"
   ]
  },
  {
   "cell_type": "code",
   "execution_count": 500,
   "metadata": {},
   "outputs": [],
   "source": [
    "def func_reorder(lst, order):\n",
    "    print(\"Func reorder\")\n",
    "    new_list = []\n",
    "    for i in order:\n",
    "        new_list.append(lst[i])\n",
    "    print(lst)\n",
    "    print(new_list)\n",
    "    return new_list\n",
    "\n",
    "# Usage Propotion Chart\n",
    "def bar_chart_v2(col_no, title='Propotion of Mobile Application Usage', y_label=\"\", x_label=\"Number of Respondents\", reorder=None):\n",
    "    plt.title(title)\n",
    "    sns.set(rc={'figure.figsize':(10,8)})\n",
    "    ax = sns.countplot(df[col_no], order=reorder)\n",
    "    ax.set_ylabel(x_label)\n",
    "    ax.set_xlabel(y_label)\n",
    "#     patch_list = ax.patches if reorder is None else func_reorder(ax.patches, reorder)\n",
    "    for p in ax.patches:\n",
    "        height = p.get_height()\n",
    "        ax.text(p.get_x()+p.get_width()/2.,\n",
    "                height + 1,\n",
    "                '{:1.2f}%'.format(height/total_responses * 100),\n",
    "                ha=\"center\")"
   ]
  },
  {
   "cell_type": "code",
   "execution_count": 501,
   "metadata": {},
   "outputs": [
    {
     "name": "stderr",
     "output_type": "stream",
     "text": [
      "/home/dulanj/.local/lib/python3.6/site-packages/seaborn/_decorators.py:43: FutureWarning: Pass the following variable as a keyword arg: x. From version 0.12, the only valid positional argument will be `data`, and passing other arguments without an explicit keyword will result in an error or misinterpretation.\n",
      "  FutureWarning\n"
     ]
    },
    {
     "data": {
      "image/png": "[encoded data removed]",
      "text/plain": [
       "<Figure size 720x576 with 1 Axes>"
      ]
     },
     "metadata": {},
     "output_type": "display_data"
    }
   ],
   "source": [
    "bar_chart_v2(6, y_label=\"Income Range\", reorder=[\"Below 50,000\", \"50,000 - 100,000\", \"100,000 - 150,000\", \"150,000 - 200,000\", \"200,000+\"])"
   ]
  },
  {
   "cell_type": "code",
   "execution_count": 502,
   "metadata": {},
   "outputs": [
    {
     "name": "stderr",
     "output_type": "stream",
     "text": [
      "/home/dulanj/.local/lib/python3.6/site-packages/seaborn/_decorators.py:43: FutureWarning: Pass the following variable as a keyword arg: x. From version 0.12, the only valid positional argument will be `data`, and passing other arguments without an explicit keyword will result in an error or misinterpretation.\n",
      "  FutureWarning\n"
     ]
    },
    {
     "data": {
      "image/png": "[encoded data removed]",
      "text/plain": [
       "<Figure size 720x576 with 1 Axes>"
      ]
     },
     "metadata": {},
     "output_type": "display_data"
    }
   ],
   "source": [
    "bar_chart_v2(1)"
   ]
  },
  {
   "cell_type": "code",
   "execution_count": 503,
   "metadata": {},
   "outputs": [
    {
     "name": "stdout",
     "output_type": "stream",
     "text": [
      "Male      108\n",
      "Female     52\n",
      "Name: 1, dtype: int64\n"
     ]
    },
    {
     "data": {
      "image/png": "[encoded data removed]",
      "text/plain": [
       "<Figure size 720x720 with 1 Axes>"
      ]
     },
     "metadata": {},
     "output_type": "display_data"
    }
   ],
   "source": [
    "pie_chart(1)"
   ]
  },
  {
   "cell_type": "code",
   "execution_count": 504,
   "metadata": {},
   "outputs": [
    {
     "name": "stderr",
     "output_type": "stream",
     "text": [
      "/home/dulanj/.local/lib/python3.6/site-packages/seaborn/_decorators.py:43: FutureWarning: Pass the following variable as a keyword arg: x. From version 0.12, the only valid positional argument will be `data`, and passing other arguments without an explicit keyword will result in an error or misinterpretation.\n",
      "  FutureWarning\n"
     ]
    },
    {
     "data": {
      "image/png": "[encoded data removed]",
      "text/plain": [
       "<Figure size 720x576 with 1 Axes>"
      ]
     },
     "metadata": {},
     "output_type": "display_data"
    }
   ],
   "source": [
    "bar_chart_v2(2,y_label=\"Age Groups\")"
   ]
  },
  {
   "cell_type": "code",
   "execution_count": 505,
   "metadata": {},
   "outputs": [
    {
     "name": "stderr",
     "output_type": "stream",
     "text": [
      "/home/dulanj/.local/lib/python3.6/site-packages/seaborn/_decorators.py:43: FutureWarning: Pass the following variable as a keyword arg: x. From version 0.12, the only valid positional argument will be `data`, and passing other arguments without an explicit keyword will result in an error or misinterpretation.\n",
      "  FutureWarning\n"
     ]
    },
    {
     "data": {
      "image/png": "[encoded data removed]",
      "text/plain": [
       "<Figure size 720x576 with 1 Axes>"
      ]
     },
     "metadata": {},
     "output_type": "display_data"
    }
   ],
   "source": [
    "bar_chart_v2(32,y_label=\"Satisfaction level - [5 highest and 2 lowest]\")"
   ]
  },
  {
   "cell_type": "code",
   "execution_count": 518,
   "metadata": {},
   "outputs": [
    {
     "name": "stderr",
     "output_type": "stream",
     "text": [
      "/home/dulanj/.local/lib/python3.6/site-packages/seaborn/_decorators.py:43: FutureWarning: Pass the following variable as a keyword arg: x. From version 0.12, the only valid positional argument will be `data`, and passing other arguments without an explicit keyword will result in an error or misinterpretation.\n",
      "  FutureWarning\n"
     ]
    },
    {
     "data": {
      "image/png": "[encoded data removed]",
      "text/plain": [
       "<Figure size 720x576 with 1 Axes>"
      ]
     },
     "metadata": {},
     "output_type": "display_data"
    }
   ],
   "source": [
    "bar_chart_v2(33,title=\"How exising mobile banking users recommend the service to others\", y_label=\"Recommend\")"
   ]
  },
  {
   "cell_type": "code",
   "execution_count": 507,
   "metadata": {},
   "outputs": [
    {
     "name": "stdout",
     "output_type": "stream",
     "text": [
      "Colombo         65\n",
      "Gampaha         20\n",
      "Kalutara        16\n",
      "Kurunegala      12\n",
      "Kandy           11\n",
      "Galle           10\n",
      "Ratnapura        5\n",
      "Matara           4\n",
      "Kegalle          4\n",
      "Hambantota       3\n",
      "Badulla          2\n",
      "Puttalam         2\n",
      "Moneragala       2\n",
      "Nuwara Eliya     2\n",
      "Vavuniya         1\n",
      "Jaffna           1\n",
      "Name: 3, dtype: int64\n"
     ]
    },
    {
     "data": {
      "image/png": "[encoded data removed]",
      "text/plain": [
       "<Figure size 1152x576 with 1 Axes>"
      ]
     },
     "metadata": {},
     "output_type": "display_data"
    }
   ],
   "source": [
    "bar_chart(3)"
   ]
  },
  {
   "cell_type": "code",
   "execution_count": 508,
   "metadata": {},
   "outputs": [
    {
     "name": "stderr",
     "output_type": "stream",
     "text": [
      "/home/dulanj/.local/lib/python3.6/site-packages/seaborn/_decorators.py:43: FutureWarning: Pass the following variable as a keyword arg: x. From version 0.12, the only valid positional argument will be `data`, and passing other arguments without an explicit keyword will result in an error or misinterpretation.\n",
      "  FutureWarning\n"
     ]
    },
    {
     "data": {
      "image/png": "[encoded data removed]",
      "text/plain": [
       "<Figure size 720x576 with 1 Axes>"
      ]
     },
     "metadata": {},
     "output_type": "display_data"
    }
   ],
   "source": [
    "bar_chart_v2(4,y_label=\"Occupation\")"
   ]
  },
  {
   "cell_type": "code",
   "execution_count": 509,
   "metadata": {},
   "outputs": [
    {
     "name": "stderr",
     "output_type": "stream",
     "text": [
      "/home/dulanj/.local/lib/python3.6/site-packages/seaborn/_decorators.py:43: FutureWarning: Pass the following variable as a keyword arg: x. From version 0.12, the only valid positional argument will be `data`, and passing other arguments without an explicit keyword will result in an error or misinterpretation.\n",
      "  FutureWarning\n"
     ]
    },
    {
     "data": {
      "image/png": "[encoded data removed]",
      "text/plain": [
       "<Figure size 720x576 with 1 Axes>"
      ]
     },
     "metadata": {},
     "output_type": "display_data"
    }
   ],
   "source": [
    "bar_chart_v2(5)"
   ]
  },
  {
   "cell_type": "code",
   "execution_count": 519,
   "metadata": {},
   "outputs": [
    {
     "name": "stderr",
     "output_type": "stream",
     "text": [
      "/home/dulanj/.local/lib/python3.6/site-packages/seaborn/_decorators.py:43: FutureWarning: Pass the following variable as a keyword arg: x. From version 0.12, the only valid positional argument will be `data`, and passing other arguments without an explicit keyword will result in an error or misinterpretation.\n",
      "  FutureWarning\n"
     ]
    },
    {
     "data": {
      "image/png": "[encoded data removed]",
      "text/plain": [
       "<Figure size 720x576 with 1 Axes>"
      ]
     },
     "metadata": {},
     "output_type": "display_data"
    }
   ],
   "source": [
    "bar_chart_v2(7, title=\"How users heard about M-banking for the first time\", y_label=\"Source\")"
   ]
  },
  {
   "cell_type": "code",
   "execution_count": 511,
   "metadata": {},
   "outputs": [
    {
     "name": "stdout",
     "output_type": "stream",
     "text": [
      "One year to five years    112\n",
      "Less than a year           33\n",
      "5 years or more            15\n",
      "Name: 8, dtype: int64\n"
     ]
    },
    {
     "data": {
      "image/png": "[encoded data removed]",
      "text/plain": [
       "<Figure size 1152x576 with 1 Axes>"
      ]
     },
     "metadata": {},
     "output_type": "display_data"
    }
   ],
   "source": [
    "bar_chart(8) "
   ]
  },
  {
   "cell_type": "code",
   "execution_count": 512,
   "metadata": {},
   "outputs": [
    {
     "name": "stdout",
     "output_type": "stream",
     "text": [
      "1Km to 5Km        80\n",
      "100m to 1Km       36\n",
      "more than 5Km     35\n",
      "less than 100m     9\n",
      "Name: 13, dtype: int64\n"
     ]
    },
    {
     "data": {
      "image/png": "[encoded data removed]",
      "text/plain": [
       "<Figure size 1152x576 with 1 Axes>"
      ]
     },
     "metadata": {},
     "output_type": "display_data"
    }
   ],
   "source": [
    "bar_chart(13) "
   ]
  },
  {
   "cell_type": "code",
   "execution_count": 513,
   "metadata": {},
   "outputs": [],
   "source": [
    "def get_item_list(col_no):\n",
    "    item_dict = {}\n",
    "    for value in df[col_no]:\n",
    "        for item in value.split(';'):\n",
    "            if item not in item_dict:\n",
    "                item_dict[item] = 0\n",
    "            else:\n",
    "                item_dict[item] += 1\n",
    "\n",
    "    return item_dict"
   ]
  },
  {
   "cell_type": "code",
   "execution_count": 514,
   "metadata": {},
   "outputs": [
    {
     "data": {
      "text/plain": [
       "{'Ease of access': 145,\n",
       " '24/7 account and service access': 142,\n",
       " 'Online bill payment': 130,\n",
       " 'Speed and efficiency': 122,\n",
       " 'Low fees': 26,\n",
       " 'many other ': 0}"
      ]
     },
     "execution_count": 514,
     "metadata": {},
     "output_type": "execute_result"
    }
   ],
   "source": [
    "get_item_list(34)"
   ]
  },
  {
   "cell_type": "code",
   "execution_count": 515,
   "metadata": {},
   "outputs": [
    {
     "data": {
      "text/plain": [
       "{'Technology issues': 92,\n",
       " 'Security issues': 86,\n",
       " 'Inconvenient to make deposits': 48,\n",
       " 'Inefficient at complex transactions': 61,\n",
       " 'No relationship with personal banker': 21,\n",
       " 'bank gets a commission in every transaction': 0,\n",
       " 'Fees charged is flat irrespective of the amount transferred,  so not suitable for small amount transactions ': 0,\n",
       " 'No account number verification process when depositing money': 0,\n",
       " \"Apps aren't user friendly\": 0,\n",
       " 'Fees': 0,\n",
       " 'Somewaht high service charges': 0,\n",
       " 'less number of participants and transaction fees': 0,\n",
       " 'unreasonably higher fees': 0}"
      ]
     },
     "execution_count": 515,
     "metadata": {},
     "output_type": "execute_result"
    }
   ],
   "source": [
    "get_item_list(35)"
   ]
  },
  {
   "cell_type": "code",
   "execution_count": 516,
   "metadata": {},
   "outputs": [
    {
     "data": {
      "text/plain": [
       "{'Keep it Simple': 131,\n",
       " 'Lightweight and speed': 98,\n",
       " 'Add more features': 76,\n",
       " 'More value added services': 68,\n",
       " 'Better User Interface': 113,\n",
       " 'stability': 0,\n",
       " 'Provide dash boards or graphical representations to analyse the transactions ': 0,\n",
       " 'should bring down the transaction fees': 0}"
      ]
     },
     "execution_count": 516,
     "metadata": {},
     "output_type": "execute_result"
    }
   ],
   "source": [
    "get_item_list(36)"
   ]
  },
  {
   "cell_type": "code",
   "execution_count": null,
   "metadata": {},
   "outputs": [],
   "source": []
  }
 ],
 "metadata": {
  "kernelspec": {
   "display_name": "Python 3",
   "language": "python",
   "name": "python3"
  },
  "language_info": {
   "codemirror_mode": {
    "name": "ipython",
    "version": 3
   },
   "file_extension": ".py",
   "mimetype": "text/x-python",
   "name": "python",
   "nbconvert_exporter": "python",
   "pygments_lexer": "ipython3",
   "version": "3.6.9"
  }
 },
 "nbformat": 4,
 "nbformat_minor": 1
}
